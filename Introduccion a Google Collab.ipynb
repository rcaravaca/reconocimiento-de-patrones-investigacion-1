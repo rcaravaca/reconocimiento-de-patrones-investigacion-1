{
 "cells": [
  {
   "cell_type": "markdown",
   "metadata": {},
   "source": [
    "# Introduccion a Google Colab"
   ]
  },
  {
   "cell_type": "markdown",
   "metadata": {},
   "source": [
    "Colaborative, o \"Colab\" es un producto de Google Research que permite escribir y ejecutar cualquier código de python a través del navegador, y es especialmente adecuado para el Machine Learning, el análisis de datos y educación. Más técnicamente, Colab es un Jupyter Notebook que se almacenan en Google Drive o se pueden cargar desde GitHub, no requiere configuración para su uso, y proporciona acceso gratuito a diferentes recursos, incluyendo GPUs. [[collab-FAQ]](https://research.google.com/colaboratory/faq.html)"
   ]
  },
  {
   "cell_type": "markdown",
   "metadata": {},
   "source": [
    "## Que ofrece Colab?\n",
    "\n",
    "* Escribir y ejecutar código en Python\n",
    "* Permite escribir ecuaciones matemáticas\n",
    "* Crear, cargar, compartir cuadernos desde Google Drive y github\n",
    "* Importar datasets externos como los de Kaggle\n",
    "* Puede integrar PyTorch, TensorFlow, Keras y OpenCV\n",
    "* Servicio gratuito en la nube con GPU gratis"
   ]
  },
  {
   "cell_type": "markdown",
   "metadata": {},
   "source": [
    "## Inciando Google Colab"
   ]
  },
  {
   "cell_type": "markdown",
   "metadata": {},
   "source": [
    "Para inciar google colab solo debe ir al siguiente link: https://colab.research.google.com/notebooks/intro.ipynb\n",
    "\n",
    "Asegurese de tener cuanta en Google y de haber iniciado sesion, ya que los Colab notebooks se guardan de Google Drive.\n",
    "\n",
    "Vera en la pantalla algo como esto:\n",
    "\n",
    "![colab_inicio](colab_inicio.png)"
   ]
  },
  {
   "cell_type": "markdown",
   "metadata": {},
   "source": [
    "Haga click donde dice **NEW NOTEBOOK**\n",
    "\n",
    "Se crea un nuevo notebook donde podra cambiarle el nombre y ejecutar codigo de python. Ejemplo:\n",
    "\n",
    "![ejemplo_1](colab_nnb.png)"
   ]
  },
  {
   "cell_type": "markdown",
   "metadata": {},
   "source": [
    "Los notebook son basicamente una lista de celdas que contienen texto explicativo o código ejecutable y su salida.\n",
    "\n",
    "Para abrir una nueva celda vaya al menu y haga click ```Insert```, luego puede hacer click en ```Code cell``` o ```Text cell```.\n",
    "\n",
    "Para ejecutar la celda puede hacer lo siguiente:\n",
    "\n",
    "* Haga clic en el icono Reproducir a la izquierda de la celda\n",
    "* Precione Ctrl+Enter para ejecutar la celda\n",
    "* Precione Shift+Enter para ejecutar la celda y moverse a la siguiente celda\n",
    "* Precione Alt+Enter para ejecutar la celda e inserte una nueva celda de código\n",
    "\n",
    "Tambien pueden ejecutarse todas las celdas haciendo click en ```Runtime```"
   ]
  },
  {
   "cell_type": "markdown",
   "metadata": {},
   "source": [
    "Tambien se pueden ejecutar comandos de ```bash```: ![bash](colab_bash.png)"
   ]
  },
  {
   "cell_type": "markdown",
   "metadata": {},
   "source": [
    "### Analisis de datos\n",
    "\n",
    "Se puede implementar codigo de python interactivo para el analisis de datos: ![colab_cos](colab_cos.png)"
   ]
  },
  {
   "cell_type": "markdown",
   "metadata": {},
   "source": [
    "### Machine Learning\n",
    "\n",
    "Se pueden importar paquetes para Machine Learning y utilizar datasets: ![colab_ml](colab_ml.png)"
   ]
  },
  {
   "cell_type": "markdown",
   "metadata": {},
   "source": [
    "### Markdown y Ecuaciones Matematicas\n",
    "\n",
    "Para editar celdas de texto haga doble click sobre ellas y utilice sintaxis [Markdown](https://colab.research.google.com/notebooks/markdown_guide.ipynb)\n",
    "\n",
    "```# Hola```\n",
    "# Hola\n",
    "```## Hola```\n",
    "## Hola\n",
    "```### Hola```\n",
    "### Hola"
   ]
  },
  {
   "cell_type": "markdown",
   "metadata": {},
   "source": [
    "\n",
    "Puede agregar texto matematico con codigo Latex agregand el simbolo ```$```, Por ejemplo: ```$\\sqrt{x^2+y^2+x^2}$``` es igual a $\\sqrt{x^2+y^6+x^2}$"
   ]
  },
  {
   "cell_type": "markdown",
   "metadata": {},
   "source": [
    "### Salvar en github\n",
    "\n",
    "Para salvar en github se debe simplemente abrir el menu de ```File```: ![colab_save](colab_save.png)"
   ]
  },
  {
   "cell_type": "markdown",
   "metadata": {},
   "source": [
    "### Referencias:\n",
    "\n",
    "https://colab.research.google.com/notebooks/intro.ipynb#scrollTo=C4HZx7Gndbrh\n",
    "https://colab.research.google.com/github/tensorflow/docs/blob/master/site/en/tutorials/quickstart/beginner.ipynb#scrollTo=OeOrNdnkEEcR\n",
    "https://research.google.com/colaboratory/faq.html"
   ]
  }
 ],
 "metadata": {
  "kernelspec": {
   "display_name": "Python 3",
   "language": "python",
   "name": "python3"
  },
  "language_info": {
   "codemirror_mode": {
    "name": "ipython",
    "version": 3
   },
   "file_extension": ".py",
   "mimetype": "text/x-python",
   "name": "python",
   "nbconvert_exporter": "python",
   "pygments_lexer": "ipython3",
   "version": "3.8.3"
  }
 },
 "nbformat": 4,
 "nbformat_minor": 4
}
